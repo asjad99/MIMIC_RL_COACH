{
 "cells": [
  {
   "cell_type": "code",
   "execution_count": null,
   "metadata": {
    "collapsed": true
   },
   "outputs": [],
   "source": [
    "#  Finds the MDP transition matrix on the train set"
   ]
  },
  {
   "cell_type": "code",
   "execution_count": 1,
   "metadata": {
    "collapsed": true,
    "deletable": true,
    "editable": true
   },
   "outputs": [],
   "source": [
    "import numpy as np\n",
    "import pandas as pd\n",
    "from pandas import DataFrame"
   ]
  },
  {
   "cell_type": "code",
   "execution_count": 2,
   "metadata": {
    "collapsed": false,
    "deletable": true,
    "editable": true
   },
   "outputs": [],
   "source": [
    "data = pd.read_csv(\"../data/rl_train_data_final_discrete.csv\")"
   ]
  },
  {
   "cell_type": "code",
   "execution_count": 6,
   "metadata": {
    "collapsed": true,
    "deletable": true,
    "editable": true
   },
   "outputs": [],
   "source": [
    "# define an action mapping - how to get an id representing the action from the (iv,vaso) tuple\n",
    "action_map = {}\n",
    "count = 0\n",
    "for iv in range(5):\n",
    "    for vaso in range(5):\n",
    "        action_map[(iv,vaso)] = count\n",
    "        count += 1"
   ]
  },
  {
   "cell_type": "code",
   "execution_count": 7,
   "metadata": {
    "collapsed": false,
    "deletable": true,
    "editable": true
   },
   "outputs": [],
   "source": [
    "#make the transition distribution a dictionary of {(state, action) : {next_state : count }}\n",
    "trans_counts = {}\n",
    "count = 0\n",
    "for row in data.index:\n",
    "    cur_state = data.ix[row, 'state']\n",
    "    \n",
    "    # extract the iv and vaso dose administered, and from that the action id\n",
    "    iv = int(data.ix[row, 'iv_tev_in'])\n",
    "    vaso = int(data.ix[row, 'max_dose_vaso'])\n",
    "    action = action_map[iv,vaso]\n",
    "    \n",
    "    # get the next state, if it exists\n",
    "    # first case handles the very end of the dataframe, edge case\n",
    "    if row == len(data)-1:\n",
    "        if data.ix[row, 'mortality'] == 0:\n",
    "            next_state = 'END_REWARD'\n",
    "        else:\n",
    "            next_state = 'END_PENALTY'\n",
    "    # second case is for all other rows\n",
    "    else:\n",
    "        if data.ix[row, 'icustayid'] == data.ix[row+1, 'icustayid']:\n",
    "            next_state = data.ix[row+1, 'state']\n",
    "        else:\n",
    "            # reached the end for this patient\n",
    "            if data.ix[row, 'mortality'] == 0:\n",
    "                next_state = 'END_REWARD'\n",
    "            else:\n",
    "                next_state = 'END_PENALTY'\n",
    "    \n",
    "    # add this transition to trans_counts\n",
    "    if (cur_state, action) in trans_counts:\n",
    "        if next_state in trans_counts[(cur_state,action)]:\n",
    "            trans_counts[(cur_state,action)][next_state] += 1\n",
    "        else:\n",
    "            trans_counts[(cur_state,action)][next_state] = 1\n",
    "    else:\n",
    "        # (state,action) not in trans_counts\n",
    "        trans_counts[(cur_state,action)] = {next_state : 1}\n",
    "    count += 1\n",
    "#     print \"current row \\n\", data.ix[row]\n",
    "#     print \"iv, vaso\" , iv, vaso\n",
    "#     print \"next row \\n\", data.ix[row+1]\n",
    "#     print \"cur state, action, next state\", cur_state,action, next_state\n",
    "#     print trans_counts[(cur_state,action)]\n",
    "#     print \"\\n\"\n",
    "#     if count > 15:\n",
    "#         break"
   ]
  },
  {
   "cell_type": "code",
   "execution_count": 8,
   "metadata": {
    "collapsed": false,
    "deletable": true,
    "editable": true
   },
   "outputs": [],
   "source": [
    "# normalise the transition counts\n",
    "trans_prob = {}\n",
    "count = 0\n",
    "for key, emp_dist in trans_counts.items():\n",
    "    count += 1\n",
    "    norm_const = sum(emp_dist.values())\n",
    "    trans_prob[key] = {}\n",
    "#     print key\n",
    "    for next_state, count in emp_dist.items():\n",
    "        trans_prob[key][next_state] = float(count)/float(norm_const)\n",
    "#     print trans_counts[key]\n",
    "#     print trans_prob[key]\n",
    "#     if count > 20:\n",
    "#         break"
   ]
  },
  {
   "cell_type": "code",
   "execution_count": 9,
   "metadata": {
    "collapsed": true,
    "deletable": true,
    "editable": true
   },
   "outputs": [],
   "source": [
    "# pickle the trans counts to file for the value iteration stage later\n",
    "import cPickle as pickle\n",
    "with open('trans_prob.p', 'wb') as f:\n",
    "    pickle.dump(trans_prob, f)"
   ]
  },
  {
   "cell_type": "code",
   "execution_count": 10,
   "metadata": {
    "collapsed": false,
    "deletable": true,
    "editable": true,
    "scrolled": true
   },
   "outputs": [
    {
     "name": "stdout",
     "output_type": "stream",
     "text": [
      "(360, 14) {360: 1.0}\n",
      "(660, 3) {735: 1.0}\n",
      "(1153, 21) {195: 1.0}\n",
      "(536, 17) {536: 0.6666666666666666, 1139: 0.3333333333333333}\n",
      "(114, 5) {996: 0.05555555555555555, 'END_PENALTY': 0.05555555555555555, 652: 0.05555555555555555, 850: 0.05555555555555555, 1134: 0.05555555555555555, 114: 0.5555555555555556, 853: 0.05555555555555555, 247: 0.05555555555555555, 857: 0.05555555555555555}\n",
      "(167, 13) {167: 1.0}\n",
      "(228, 13) {228: 1.0}\n",
      "(157, 23) {157: 0.5, 959: 0.5}\n",
      "(450, 3) {450: 1.0}\n",
      "(512, 10) {512: 0.5, 469: 0.25, 725: 0.25}\n",
      "(440, 21) {16: 0.25, 81: 0.25, 440: 0.25, 374: 0.25}\n"
     ]
    }
   ],
   "source": [
    "count = 0\n",
    "for i in trans_prob:\n",
    "    print i, trans_prob[i]\n",
    "    count += 1\n",
    "    if count > 10:\n",
    "        break"
   ]
  },
  {
   "cell_type": "code",
   "execution_count": null,
   "metadata": {
    "collapsed": true,
    "deletable": true,
    "editable": true
   },
   "outputs": [],
   "source": []
  }
 ],
 "metadata": {
  "kernelspec": {
   "display_name": "Python 2",
   "language": "python",
   "name": "python2"
  },
  "language_info": {
   "codemirror_mode": {
    "name": "ipython",
    "version": 2
   },
   "file_extension": ".py",
   "mimetype": "text/x-python",
   "name": "python",
   "nbconvert_exporter": "python",
   "pygments_lexer": "ipython2",
   "version": "2.7.12"
  }
 },
 "nbformat": 4,
 "nbformat_minor": 2
}
